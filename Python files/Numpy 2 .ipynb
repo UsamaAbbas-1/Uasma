{
 "cells": [
  {
   "cell_type": "code",
   "execution_count": 25,
   "id": "8bbb2402",
   "metadata": {},
   "outputs": [
    {
     "ename": "TypeError",
     "evalue": "'int' object is not subscriptable",
     "output_type": "error",
     "traceback": [
      "\u001b[1;31m---------------------------------------------------------------------------\u001b[0m",
      "\u001b[1;31mTypeError\u001b[0m                                 Traceback (most recent call last)",
      "\u001b[1;32mC:\\Users\\EMBEDD~1\\AppData\\Local\\Temp/ipykernel_7588/630068188.py\u001b[0m in \u001b[0;36m<module>\u001b[1;34m\u001b[0m\n\u001b[0;32m      1\u001b[0m \u001b[1;32mimport\u001b[0m \u001b[0mnumpy\u001b[0m \u001b[1;32mas\u001b[0m \u001b[0mnp\u001b[0m\u001b[1;33m\u001b[0m\u001b[1;33m\u001b[0m\u001b[0m\n\u001b[1;32m----> 2\u001b[1;33m \u001b[0ma\u001b[0m\u001b[1;33m[\u001b[0m\u001b[1;33m:\u001b[0m\u001b[1;33m:\u001b[0m\u001b[1;33m-\u001b[0m\u001b[1;36m1\u001b[0m\u001b[1;33m]\u001b[0m\u001b[1;33m\u001b[0m\u001b[1;33m\u001b[0m\u001b[0m\n\u001b[0m",
      "\u001b[1;31mTypeError\u001b[0m: 'int' object is not subscriptable"
     ]
    }
   ],
   "source": [
    "\n"
   ]
  },
  {
   "cell_type": "code",
   "execution_count": 26,
   "id": "fd0ed3fb",
   "metadata": {},
   "outputs": [
    {
     "data": {
      "text/plain": [
       "10"
      ]
     },
     "execution_count": 26,
     "metadata": {},
     "output_type": "execute_result"
    }
   ],
   "source": [
    "a"
   ]
  },
  {
   "cell_type": "markdown",
   "id": "997d77d1",
   "metadata": {},
   "source": [
    "## Slicing"
   ]
  },
  {
   "cell_type": "code",
   "execution_count": 32,
   "id": "d3e80c28",
   "metadata": {},
   "outputs": [
    {
     "name": "stderr",
     "output_type": "stream",
     "text": [
      "C:\\Users\\EMBEDD~1\\AppData\\Local\\Temp/ipykernel_7588/1973643979.py:4: VisibleDeprecationWarning: Creating an ndarray from ragged nested sequences (which is a list-or-tuple of lists-or-tuples-or ndarrays with different lengths or shapes) is deprecated. If you meant to do this, you must specify 'dtype=object' when creating the ndarray.\n",
      "  c=np.array([[(1,3,5,7),(6,7,8,9)],[(3,2,1),(2,4,5)]])\n"
     ]
    }
   ],
   "source": [
    "import numpy as np\n",
    "a=np.array([3,5,6])\n",
    "b=np.array([(1,2.5,3),(4,5,6)],dtype =float)\n",
    "c=np.array([[(1,3,5,7),(6,7,8,9)],[(3,2,1),(2,4,5)]])"
   ]
  },
  {
   "cell_type": "code",
   "execution_count": 33,
   "id": "e3b77891",
   "metadata": {},
   "outputs": [
    {
     "data": {
      "text/plain": [
       "array([6, 5, 3])"
      ]
     },
     "execution_count": 33,
     "metadata": {},
     "output_type": "execute_result"
    }
   ],
   "source": [
    "a[::-1]"
   ]
  },
  {
   "cell_type": "markdown",
   "id": "c279bf1d",
   "metadata": {},
   "source": [
    "## Bolean"
   ]
  },
  {
   "cell_type": "code",
   "execution_count": 34,
   "id": "10c79d19",
   "metadata": {},
   "outputs": [
    {
     "data": {
      "text/plain": [
       "array([], dtype=int32)"
      ]
     },
     "execution_count": 34,
     "metadata": {},
     "output_type": "execute_result"
    }
   ],
   "source": [
    "a[a<2]"
   ]
  },
  {
   "cell_type": "markdown",
   "id": "ec6221a6",
   "metadata": {},
   "source": [
    "## Fancing indexing"
   ]
  },
  {
   "cell_type": "code",
   "execution_count": 35,
   "id": "9009dc40",
   "metadata": {},
   "outputs": [
    {
     "data": {
      "text/plain": [
       "array([4. , 2.5, 6. , 1. ])"
      ]
     },
     "execution_count": 35,
     "metadata": {},
     "output_type": "execute_result"
    }
   ],
   "source": [
    "b[[1,0,1,0],[0,1,2,0]]"
   ]
  },
  {
   "cell_type": "code",
   "execution_count": 37,
   "id": "a8dbb79f",
   "metadata": {},
   "outputs": [
    {
     "data": {
      "text/plain": [
       "(array([[4. , 5. , 6. ],\n",
       "        [1. , 2.5, 3. ],\n",
       "        [4. , 5. , 6. ],\n",
       "        [1. , 2.5, 3. ]]),\n",
       " [[0, 1, 2, 0]])"
      ]
     },
     "execution_count": 37,
     "metadata": {},
     "output_type": "execute_result"
    }
   ],
   "source": [
    "b[[1,0,1,0]],[[0,1,2,0]]"
   ]
  },
  {
   "cell_type": "markdown",
   "id": "d10b4fac",
   "metadata": {},
   "source": [
    "## ARRAY Manipulation"
   ]
  },
  {
   "cell_type": "markdown",
   "id": "fc45e8e4",
   "metadata": {},
   "source": [
    "#### Transposing Array "
   ]
  },
  {
   "cell_type": "code",
   "execution_count": 151,
   "id": "4f7b8784",
   "metadata": {},
   "outputs": [
    {
     "data": {
      "text/plain": [
       "array([[1, 2, 3],\n",
       "       [4, 5, 6],\n",
       "       [7, 8, 9]])"
      ]
     },
     "execution_count": 151,
     "metadata": {},
     "output_type": "execute_result"
    }
   ],
   "source": [
    "a=np.array([[1,2,3],[4,5,6],[7,8,9]])\n",
    "i=np.transpose(a)\n",
    "a"
   ]
  },
  {
   "cell_type": "code",
   "execution_count": 44,
   "id": "ffb3e453",
   "metadata": {},
   "outputs": [
    {
     "data": {
      "text/plain": [
       "array([3, 5, 6])"
      ]
     },
     "execution_count": 44,
     "metadata": {},
     "output_type": "execute_result"
    }
   ],
   "source": [
    "i.T"
   ]
  },
  {
   "cell_type": "markdown",
   "id": "ee072fa1",
   "metadata": {},
   "source": [
    "#### Changing Array Shape "
   ]
  },
  {
   "cell_type": "code",
   "execution_count": 45,
   "id": "a51c71ee",
   "metadata": {},
   "outputs": [
    {
     "data": {
      "text/plain": [
       "array([1. , 2.5, 3. , 4. , 5. , 6. ])"
      ]
     },
     "execution_count": 45,
     "metadata": {},
     "output_type": "execute_result"
    }
   ],
   "source": [
    "b.ravel()"
   ]
  },
  {
   "cell_type": "code",
   "execution_count": 49,
   "id": "b5ef6b85",
   "metadata": {},
   "outputs": [
    {
     "data": {
      "text/plain": [
       "array([[1. , 2.5],\n",
       "       [3. , 4. ],\n",
       "       [5. , 6. ]])"
      ]
     },
     "execution_count": 49,
     "metadata": {},
     "output_type": "execute_result"
    }
   ],
   "source": [
    "b.reshape(3,-4)"
   ]
  },
  {
   "cell_type": "markdown",
   "id": "d216783f",
   "metadata": {},
   "source": [
    "#### Adding /Removing Element "
   ]
  },
  {
   "cell_type": "code",
   "execution_count": 150,
   "id": "441e1abb",
   "metadata": {},
   "outputs": [
    {
     "data": {
      "text/plain": [
       "array([[3, 5, 4],\n",
       "       [0, 0, 0]])"
      ]
     },
     "execution_count": 150,
     "metadata": {},
     "output_type": "execute_result"
    }
   ],
   "source": [
    "h=np.array([3,5,4])\n",
    "h.resize((2,3))\n",
    "h"
   ]
  },
  {
   "cell_type": "code",
   "execution_count": 141,
   "id": "301ef4a7",
   "metadata": {},
   "outputs": [
    {
     "data": {
      "text/plain": [
       "array([4, 6])"
      ]
     },
     "execution_count": 141,
     "metadata": {},
     "output_type": "execute_result"
    }
   ],
   "source": [
    "np.delete(a,[1])"
   ]
  },
  {
   "cell_type": "code",
   "execution_count": 142,
   "id": "bef091dd",
   "metadata": {},
   "outputs": [
    {
     "data": {
      "text/plain": [
       "array([4, 5, 5, 6])"
      ]
     },
     "execution_count": 142,
     "metadata": {},
     "output_type": "execute_result"
    }
   ],
   "source": [
    "np.insert(a,1,5)"
   ]
  },
  {
   "cell_type": "code",
   "execution_count": 62,
   "id": "fcd65173",
   "metadata": {},
   "outputs": [
    {
     "data": {
      "text/plain": [
       "array([1. , 6. , 2.5, 3. , 4. , 5. , 6. ])"
      ]
     },
     "execution_count": 62,
     "metadata": {},
     "output_type": "execute_result"
    }
   ],
   "source": [
    "np.insert(b,1,6)"
   ]
  },
  {
   "cell_type": "markdown",
   "id": "e93120fc",
   "metadata": {},
   "source": [
    "#### Combining Arrays "
   ]
  },
  {
   "cell_type": "code",
   "execution_count": 120,
   "id": "7ba2c554",
   "metadata": {},
   "outputs": [
    {
     "data": {
      "text/plain": [
       "array([1, 2, 3, 4, 5, 6])"
      ]
     },
     "execution_count": 120,
     "metadata": {},
     "output_type": "execute_result"
    }
   ],
   "source": [
    "d=np.array([1,2,3])\n",
    "a=np.array([4,5,6])\n",
    "np.concatenate((d,a) ,axis=0)\n"
   ]
  },
  {
   "cell_type": "code",
   "execution_count": 104,
   "id": "8df13eff",
   "metadata": {},
   "outputs": [
    {
     "data": {
      "text/plain": [
       "array([[3. , 5. , 6. ],\n",
       "       [1. , 2.5, 3. ],\n",
       "       [4. , 5. , 6. ]])"
      ]
     },
     "execution_count": 104,
     "metadata": {},
     "output_type": "execute_result"
    }
   ],
   "source": [
    "np.vstack((a,b))"
   ]
  },
  {
   "cell_type": "code",
   "execution_count": 101,
   "id": "e36e395c",
   "metadata": {},
   "outputs": [
    {
     "data": {
      "text/plain": [
       "array([1, 0, 4, 3, 4, 4])"
      ]
     },
     "execution_count": 101,
     "metadata": {},
     "output_type": "execute_result"
    }
   ],
   "source": [
    "e=np.array([1,0,4])\n",
    "f=np.array([3,4,4])\n",
    "np.r_[e,f]\n"
   ]
  },
  {
   "cell_type": "code",
   "execution_count": 102,
   "id": "8323f1a8",
   "metadata": {},
   "outputs": [
    {
     "data": {
      "text/plain": [
       "array([[1, 3],\n",
       "       [0, 4],\n",
       "       [4, 4]])"
      ]
     },
     "execution_count": 102,
     "metadata": {},
     "output_type": "execute_result"
    }
   ],
   "source": [
    "np.column_stack((e,f)) "
   ]
  },
  {
   "cell_type": "markdown",
   "id": "50beb211",
   "metadata": {},
   "source": [
    "#### Splitting Array "
   ]
  },
  {
   "cell_type": "code",
   "execution_count": 76,
   "id": "cba5ef39",
   "metadata": {},
   "outputs": [
    {
     "data": {
      "text/plain": [
       "[array([3]), array([5]), array([6])]"
      ]
     },
     "execution_count": 76,
     "metadata": {},
     "output_type": "execute_result"
    }
   ],
   "source": [
    "np.hsplit(a,3)"
   ]
  },
  {
   "cell_type": "code",
   "execution_count": 77,
   "id": "e7865bb7",
   "metadata": {},
   "outputs": [
    {
     "data": {
      "text/plain": [
       "[array([[(1, 3, 5, 7), (6, 7, 8, 9)]], dtype=object),\n",
       " array([[(3, 2, 1), (2, 4, 5)]], dtype=object)]"
      ]
     },
     "execution_count": 77,
     "metadata": {},
     "output_type": "execute_result"
    }
   ],
   "source": [
    "np.vsplit(c,2)"
   ]
  },
  {
   "cell_type": "code",
   "execution_count": null,
   "id": "9821b960",
   "metadata": {},
   "outputs": [],
   "source": []
  }
 ],
 "metadata": {
  "kernelspec": {
   "display_name": "Python 3 (ipykernel)",
   "language": "python",
   "name": "python3"
  },
  "language_info": {
   "codemirror_mode": {
    "name": "ipython",
    "version": 3
   },
   "file_extension": ".py",
   "mimetype": "text/x-python",
   "name": "python",
   "nbconvert_exporter": "python",
   "pygments_lexer": "ipython3",
   "version": "3.9.7"
  }
 },
 "nbformat": 4,
 "nbformat_minor": 5
}
