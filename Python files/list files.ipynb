{
 "cells": [
  {
   "cell_type": "markdown",
   "id": "400b3073",
   "metadata": {},
   "source": [
    "## list"
   ]
  },
  {
   "cell_type": "code",
   "execution_count": 7,
   "id": "a87d3e88",
   "metadata": {},
   "outputs": [
    {
     "name": "stdout",
     "output_type": "stream",
     "text": [
      "['2,3,4,5,6']\n"
     ]
    }
   ],
   "source": [
    "primes = [\"2,3,4,5,6\"]\n",
    "print(primes)\n",
    "empty_list = []"
   ]
  },
  {
   "cell_type": "markdown",
   "id": "6f529124",
   "metadata": {},
   "source": [
    "## adding list"
   ]
  },
  {
   "cell_type": "code",
   "execution_count": 8,
   "id": "ff0e7340",
   "metadata": {},
   "outputs": [
    {
     "name": "stdout",
     "output_type": "stream",
     "text": [
      "['pcb', 'python', 'c++', 'obstical avodier', 'devops', 'java', 'html']\n"
     ]
    }
   ],
   "source": [
    "items = ['pcb','python','c++','obstical avodier','devops']\n",
    "total_items = items + ['java','html']\n",
    "print(total_items)"
   ]
  },
  {
   "cell_type": "markdown",
   "id": "3faaf908",
   "metadata": {},
   "source": [
    "## list(data type)"
   ]
  },
  {
   "cell_type": "code",
   "execution_count": null,
   "id": "55c638a5",
   "metadata": {},
   "outputs": [],
   "source": [
    "numbers=[2,4,6,8,9]\n",
    "names =['waqas','riyan','kashif','ahmed']\n",
    "mixed =['waqas',2,4]\n",
    "list_of_list =[['a',2] , ['b',4]]\n",
    "print (list_of_lis)"
   ]
  },
  {
   "cell_type": "markdown",
   "id": "8c981b12",
   "metadata": {},
   "source": [
    "## list method. append()"
   ]
  },
  {
   "cell_type": "code",
   "execution_count": 2,
   "id": "c75c66e5",
   "metadata": {},
   "outputs": [
    {
     "name": "stdout",
     "output_type": "stream",
     "text": [
      "['waqas', 'riyan', 'kashif']\n"
     ]
    }
   ],
   "source": [
    "order=['waqas','riyan']\n",
    "order.append('kashif')\n",
    "print(order)\n"
   ]
  },
  {
   "cell_type": "markdown",
   "id": "012c354e",
   "metadata": {},
   "source": [
    "## zero - indexing"
   ]
  },
  {
   "cell_type": "code",
   "execution_count": 2,
   "id": "16c5c13b",
   "metadata": {},
   "outputs": [
    {
     "name": "stdout",
     "output_type": "stream",
     "text": [
      "blueberry\n",
      "respberry\n"
     ]
    }
   ],
   "source": [
    "names =['waqas','riyan','kashif','ahmed']\n",
    "berries=['blueberry','cranberry','respberry']\n",
    "print (berries[0]) \n",
    "print (berries[2])"
   ]
  },
  {
   "cell_type": "markdown",
   "id": "a9b6a0f8",
   "metadata": {},
   "source": [
    "## negative list indices"
   ]
  },
  {
   "cell_type": "code",
   "execution_count": 5,
   "id": "069536d4",
   "metadata": {},
   "outputs": [
    {
     "name": "stdout",
     "output_type": "stream",
     "text": [
      "ahmed\n",
      "['riyan', 'kashif', 'ahmed']\n",
      "['waqas', 'riyan']\n"
     ]
    }
   ],
   "source": [
    "name=['waqas','riyan','kashif','ahmed']\n",
    "print (name[-1])\n",
    "print (name[-3:])\n",
    "print (name[:-2])\n"
   ]
  },
  {
   "cell_type": "markdown",
   "id": "f8f96e47",
   "metadata": {},
   "source": [
    "## Accessing 2D Lists"
   ]
  },
  {
   "cell_type": "code",
   "execution_count": 12,
   "id": "12fb3cc6",
   "metadata": {},
   "outputs": [
    {
     "name": "stdout",
     "output_type": "stream",
     "text": [
      "6\n"
     ]
    }
   ],
   "source": [
    "heights = [[\"waqas\",6] , [\"riyan\",5.6] , [\"ahmed\",7]]\n",
    "waqas_height = heights[0][1]\n",
    "print(waqas_height)"
   ]
  },
  {
   "cell_type": "markdown",
   "id": "e3779a10",
   "metadata": {},
   "source": [
    "## list Method . remove()"
   ]
  },
  {
   "cell_type": "code",
   "execution_count": 16,
   "id": "3e6a7006",
   "metadata": {},
   "outputs": [
    {
     "name": "stdout",
     "output_type": "stream",
     "text": [
      "['laptop', 'cake', 'laminate']\n"
     ]
    }
   ],
   "source": [
    "shopping_line = [\"clothes\",\"laptop\",\"cake\",\"laminate\"]\n",
    "shopping_line.remove (\"clothes\")\n",
    "print(shopping_line)"
   ]
  },
  {
   "cell_type": "markdown",
   "id": "cb2440b3",
   "metadata": {},
   "source": [
    "## list method count"
   ]
  },
  {
   "cell_type": "code",
   "execution_count": 17,
   "id": "3eb603cc",
   "metadata": {},
   "outputs": [
    {
     "name": "stdout",
     "output_type": "stream",
     "text": [
      "2\n"
     ]
    }
   ],
   "source": [
    "backpack = [\"clothes\",\"laptop\",\"laminate\",\"cake\",\"laminate\"]\n",
    "numlaminate = backpack.count(\"laminate\")\n",
    "print(numlaminate)"
   ]
  },
  {
   "cell_type": "markdown",
   "id": "8e93b0f1",
   "metadata": {},
   "source": [
    "## determing list length with len()"
   ]
  },
  {
   "cell_type": "code",
   "execution_count": 19,
   "id": "92566d03",
   "metadata": {},
   "outputs": [
    {
     "name": "stdout",
     "output_type": "stream",
     "text": [
      "5\n"
     ]
    }
   ],
   "source": [
    "knapsack=[2,3,4,5,6]\n",
    "size= len(knapsack)\n",
    "print(size)"
   ]
  },
  {
   "cell_type": "markdown",
   "id": "210dc008",
   "metadata": {},
   "source": [
    "## list method sort"
   ]
  },
  {
   "cell_type": "code",
   "execution_count": 23,
   "id": "b0f58b94",
   "metadata": {},
   "outputs": [
    {
     "name": "stdout",
     "output_type": "stream",
     "text": [
      "[2, 3, 3, 4, 7, 7, 8, 9]\n"
     ]
    }
   ],
   "source": [
    "examplelist=[3,4,2,7,3,8,9,7]\n",
    "examplelist.sort()\n",
    "print(examplelist)"
   ]
  },
  {
   "cell_type": "markdown",
   "id": "5b3327d7",
   "metadata": {},
   "source": [
    "## list slicing"
   ]
  },
  {
   "cell_type": "code",
   "execution_count": 26,
   "id": "c0f27d75",
   "metadata": {},
   "outputs": [
    {
     "name": "stdout",
     "output_type": "stream",
     "text": [
      "['nail', 'lever']\n"
     ]
    }
   ],
   "source": [
    "tools=[\"pen\",\"hammer\",\"lever\"]\n",
    "tools_silice=tools[1:3]\n",
    "tools_silice[0]=\"nail\"\n",
    "print(tools_silice)"
   ]
  },
  {
   "cell_type": "markdown",
   "id": "cacbebb1",
   "metadata": {},
   "source": [
    "## sorted()function"
   ]
  },
  {
   "cell_type": "code",
   "execution_count": 29,
   "id": "ba5f4221",
   "metadata": {},
   "outputs": [
    {
     "name": "stdout",
     "output_type": "stream",
     "text": [
      "[2, 4, 5, 6, 7]\n"
     ]
    }
   ],
   "source": [
    "unsortedlist=[4,7,5,2,6]\n",
    "sortedlist=sorted(unsortedlist)\n",
    "print(sortedlist)"
   ]
  },
  {
   "cell_type": "markdown",
   "id": "b78df873",
   "metadata": {},
   "source": [
    "## list method insert()\n"
   ]
  },
  {
   "cell_type": "code",
   "execution_count": 31,
   "id": "c12361dd",
   "metadata": {},
   "outputs": [
    {
     "name": "stdout",
     "output_type": "stream",
     "text": [
      "['waqas', 'riyan', 'kashif']\n"
     ]
    }
   ],
   "source": [
    "name_line=[\"waqas\",\"riyan\"]\n",
    "name_line.insert(2,\"kashif\")\n",
    "print(name_line)"
   ]
  },
  {
   "cell_type": "markdown",
   "id": "c7be7565",
   "metadata": {},
   "source": [
    "## list method pop"
   ]
  },
  {
   "cell_type": "code",
   "execution_count": 34,
   "id": "3fb05360",
   "metadata": {},
   "outputs": [
    {
     "name": "stdout",
     "output_type": "stream",
     "text": [
      "['pcb', 'python', 'obstical avodier', 'devops']\n",
      "c++\n"
     ]
    }
   ],
   "source": [
    "cs_topics=['pcb','python','c++','obstical avodier','devops']\n",
    "removed_element=cs_topics.pop(2)\n",
    "print(cs_topics)\n",
    "print(removed_element)"
   ]
  },
  {
   "cell_type": "code",
   "execution_count": null,
   "id": "60da789b",
   "metadata": {},
   "outputs": [],
   "source": []
  }
 ],
 "metadata": {
  "kernelspec": {
   "display_name": "Python 3 (ipykernel)",
   "language": "python",
   "name": "python3"
  },
  "language_info": {
   "codemirror_mode": {
    "name": "ipython",
    "version": 3
   },
   "file_extension": ".py",
   "mimetype": "text/x-python",
   "name": "python",
   "nbconvert_exporter": "python",
   "pygments_lexer": "ipython3",
   "version": "3.9.7"
  }
 },
 "nbformat": 4,
 "nbformat_minor": 5
}
