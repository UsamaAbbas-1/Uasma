{
 "cells": [
  {
   "cell_type": "markdown",
   "id": "7c533e78",
   "metadata": {},
   "source": [
    "### NUMPY"
   ]
  },
  {
   "cell_type": "markdown",
   "id": "48669ba2",
   "metadata": {},
   "source": [
    "### Creative Arrays"
   ]
  },
  {
   "cell_type": "code",
   "execution_count": 2,
   "id": "361e311e",
   "metadata": {},
   "outputs": [],
   "source": [
    "import numpy as np \n",
    "a=np.array([0,1,2,3])"
   ]
  },
  {
   "cell_type": "code",
   "execution_count": 3,
   "id": "0493c454",
   "metadata": {},
   "outputs": [
    {
     "data": {
      "text/plain": [
       "array([0, 1, 2, 3])"
      ]
     },
     "execution_count": 3,
     "metadata": {},
     "output_type": "execute_result"
    }
   ],
   "source": [
    "a\n"
   ]
  },
  {
   "cell_type": "code",
   "execution_count": 4,
   "id": "fb03df8d",
   "metadata": {},
   "outputs": [],
   "source": [
    "import numpy as np \n",
    "b=np.array(([1.1,1.2,1.3,1.4,1.5,1.6]),dtype= float)"
   ]
  },
  {
   "cell_type": "code",
   "execution_count": 5,
   "id": "69f67b3f",
   "metadata": {},
   "outputs": [
    {
     "data": {
      "text/plain": [
       "array([1.1, 1.2, 1.3, 1.4, 1.5, 1.6])"
      ]
     },
     "execution_count": 5,
     "metadata": {},
     "output_type": "execute_result"
    }
   ],
   "source": [
    "b"
   ]
  },
  {
   "cell_type": "code",
   "execution_count": 6,
   "id": "ac6dc3b1",
   "metadata": {},
   "outputs": [],
   "source": [
    "import numpy as np \n",
    "c=np.array([10,20,30,40,50,60,70,80,90,100])"
   ]
  },
  {
   "cell_type": "code",
   "execution_count": 7,
   "id": "d2c82de8",
   "metadata": {},
   "outputs": [
    {
     "data": {
      "text/plain": [
       "array([ 10,  20,  30,  40,  50,  60,  70,  80,  90, 100])"
      ]
     },
     "execution_count": 7,
     "metadata": {},
     "output_type": "execute_result"
    }
   ],
   "source": [
    "c"
   ]
  },
  {
   "cell_type": "code",
   "execution_count": 16,
   "id": "db2f08fb",
   "metadata": {},
   "outputs": [
    {
     "data": {
      "text/plain": [
       "[[(1, 3, 5, 7), (6, 7, 8, 9)], [(3, 2, 1), (2, 4, 5)]]"
      ]
     },
     "execution_count": 16,
     "metadata": {},
     "output_type": "execute_result"
    }
   ],
   "source": [
    "k = ([[(1,3,5,7),(6,7,8,9)],[(3,2,1),(2,4,5)]])\n",
    "k"
   ]
  },
  {
   "cell_type": "markdown",
   "id": "3a1db786",
   "metadata": {},
   "source": [
    "### Initial PlaceHolders"
   ]
  },
  {
   "cell_type": "code",
   "execution_count": 9,
   "id": "0e4bdc70",
   "metadata": {},
   "outputs": [
    {
     "data": {
      "text/plain": [
       "array([[0., 0., 0., 0., 0.],\n",
       "       [0., 0., 0., 0., 0.],\n",
       "       [0., 0., 0., 0., 0.],\n",
       "       [0., 0., 0., 0., 0.],\n",
       "       [0., 0., 0., 0., 0.]])"
      ]
     },
     "execution_count": 9,
     "metadata": {},
     "output_type": "execute_result"
    }
   ],
   "source": [
    "k=np.zeros([5,5])\n",
    "k"
   ]
  },
  {
   "cell_type": "code",
   "execution_count": 10,
   "id": "ec55d78c",
   "metadata": {},
   "outputs": [
    {
     "data": {
      "text/plain": [
       "array([[1., 1., 1., 1.],\n",
       "       [1., 1., 1., 1.],\n",
       "       [1., 1., 1., 1.]])"
      ]
     },
     "execution_count": 10,
     "metadata": {},
     "output_type": "execute_result"
    }
   ],
   "source": [
    "k= np.ones([3,4])\n",
    "k"
   ]
  },
  {
   "cell_type": "code",
   "execution_count": 18,
   "id": "cf570337",
   "metadata": {},
   "outputs": [
    {
     "data": {
      "text/plain": [
       "array([10])"
      ]
     },
     "execution_count": 18,
     "metadata": {},
     "output_type": "execute_result"
    }
   ],
   "source": [
    "k= np.arange(10,30,20)\n",
    "k"
   ]
  },
  {
   "cell_type": "code",
   "execution_count": 26,
   "id": "e4b0076e",
   "metadata": {},
   "outputs": [
    {
     "data": {
      "text/plain": [
       "array([ 0.        ,  0.42372881,  0.84745763,  1.27118644,  1.69491525,\n",
       "        2.11864407,  2.54237288,  2.96610169,  3.38983051,  3.81355932,\n",
       "        4.23728814,  4.66101695,  5.08474576,  5.50847458,  5.93220339,\n",
       "        6.3559322 ,  6.77966102,  7.20338983,  7.62711864,  8.05084746,\n",
       "        8.47457627,  8.89830508,  9.3220339 ,  9.74576271, 10.16949153,\n",
       "       10.59322034, 11.01694915, 11.44067797, 11.86440678, 12.28813559,\n",
       "       12.71186441, 13.13559322, 13.55932203, 13.98305085, 14.40677966,\n",
       "       14.83050847, 15.25423729, 15.6779661 , 16.10169492, 16.52542373,\n",
       "       16.94915254, 17.37288136, 17.79661017, 18.22033898, 18.6440678 ,\n",
       "       19.06779661, 19.49152542, 19.91525424, 20.33898305, 20.76271186,\n",
       "       21.18644068, 21.61016949, 22.03389831, 22.45762712, 22.88135593,\n",
       "       23.30508475, 23.72881356, 24.15254237, 24.57627119, 25.        ])"
      ]
     },
     "execution_count": 26,
     "metadata": {},
     "output_type": "execute_result"
    }
   ],
   "source": [
    "k = np.linspace(0,25,60)\n",
    "k"
   ]
  },
  {
   "cell_type": "code",
   "execution_count": 28,
   "id": "5fe4bbcb",
   "metadata": {},
   "outputs": [
    {
     "data": {
      "text/plain": [
       "array([[2, 2, 2, 2, 2, 2, 2, 2],\n",
       "       [2, 2, 2, 2, 2, 2, 2, 2]])"
      ]
     },
     "execution_count": 28,
     "metadata": {},
     "output_type": "execute_result"
    }
   ],
   "source": [
    "e=np.full((2,8),2)\n",
    "e\n"
   ]
  },
  {
   "cell_type": "code",
   "execution_count": 29,
   "id": "cc8ec887",
   "metadata": {},
   "outputs": [
    {
     "data": {
      "text/plain": [
       "array([[1., 0.],\n",
       "       [0., 1.]])"
      ]
     },
     "execution_count": 29,
     "metadata": {},
     "output_type": "execute_result"
    }
   ],
   "source": [
    "k=np.eye(2)\n",
    "k"
   ]
  },
  {
   "cell_type": "code",
   "execution_count": 33,
   "id": "8afd4e89",
   "metadata": {},
   "outputs": [
    {
     "data": {
      "text/plain": [
       "array([[0.08350348, 0.12553093, 0.8402024 , 0.41216162, 0.77672499,\n",
       "        0.30497091, 0.69658359, 0.37395323, 0.3479954 ],\n",
       "       [0.74649496, 0.48580412, 0.90087761, 0.75247975, 0.2507045 ,\n",
       "        0.80750291, 0.27660596, 0.65971755, 0.84727378]])"
      ]
     },
     "execution_count": 33,
     "metadata": {},
     "output_type": "execute_result"
    }
   ],
   "source": [
    "k=np.random.random((2,9))\n",
    "k"
   ]
  },
  {
   "cell_type": "code",
   "execution_count": 34,
   "id": "7685ff70",
   "metadata": {},
   "outputs": [
    {
     "data": {
      "text/plain": [
       "array([[1.53208128e-311, 1.53208134e-311, 0.00000000e+000, ...,\n",
       "        4.45619116e-313, 9.88131292e-323, 1.53309956e-311],\n",
       "       [0.00000000e+000, 4.94065646e-324, 4.66839074e-313, ...,\n",
       "        1.53313252e-311, 6.42285340e-323, 1.53313251e-311],\n",
       "       [5.41990013e-321, 1.53313252e-311, 6.42285340e-323, ...,\n",
       "        0.00000000e+000, 0.00000000e+000, 4.24399158e-313],\n",
       "       ...,\n",
       "       [0.00000000e+000, 0.00000000e+000, 0.00000000e+000, ...,\n",
       "        0.00000000e+000, 0.00000000e+000, 0.00000000e+000],\n",
       "       [0.00000000e+000, 0.00000000e+000, 0.00000000e+000, ...,\n",
       "        0.00000000e+000, 0.00000000e+000, 0.00000000e+000],\n",
       "       [0.00000000e+000, 0.00000000e+000, 0.00000000e+000, ...,\n",
       "        0.00000000e+000, 0.00000000e+000, 0.00000000e+000]])"
      ]
     },
     "execution_count": 34,
     "metadata": {},
     "output_type": "execute_result"
    }
   ],
   "source": [
    "k= np.empty((45,45))\n",
    "k"
   ]
  },
  {
   "cell_type": "markdown",
   "id": "c0c1dadc",
   "metadata": {},
   "source": [
    "### Saving & Loading  On Disk "
   ]
  },
  {
   "cell_type": "code",
   "execution_count": 50,
   "id": "0e049738",
   "metadata": {},
   "outputs": [
    {
     "data": {
      "text/plain": [
       "<numpy.lib.npyio.NpzFile at 0x2d27ff60850>"
      ]
     },
     "execution_count": 50,
     "metadata": {},
     "output_type": "execute_result"
    }
   ],
   "source": [
    "np.save('my array',k)\n",
    "k"
   ]
  },
  {
   "cell_type": "code",
   "execution_count": 51,
   "id": "d3460b96",
   "metadata": {},
   "outputs": [],
   "source": [
    "np.savez('KHIZAR.npz',a,b)\n",
    "U"
   ]
  },
  {
   "cell_type": "code",
   "execution_count": 53,
   "id": "4bbab693",
   "metadata": {},
   "outputs": [
    {
     "data": {
      "text/plain": [
       "<numpy.lib.npyio.NpzFile at 0x2d27ff38430>"
      ]
     },
     "execution_count": 53,
     "metadata": {},
     "output_type": "execute_result"
    }
   ],
   "source": [
    "np.load('KHIZAR.npz')\n"
   ]
  },
  {
   "cell_type": "markdown",
   "id": "f021dc28",
   "metadata": {},
   "source": [
    "### Saving & Loading Text Files "
   ]
  },
  {
   "cell_type": "code",
   "execution_count": 59,
   "id": "f587b0f0",
   "metadata": {},
   "outputs": [
    {
     "data": {
      "text/plain": [
       "array([0, 1, 2, 3])"
      ]
     },
     "execution_count": 59,
     "metadata": {},
     "output_type": "execute_result"
    }
   ],
   "source": [
    "np.savetxt('KHIZAR.txt',a)\n",
    "a"
   ]
  },
  {
   "cell_type": "code",
   "execution_count": 60,
   "id": "95c84b6a",
   "metadata": {},
   "outputs": [
    {
     "data": {
      "text/plain": [
       "<numpy.lib.npyio.NpzFile at 0x2d27ff60850>"
      ]
     },
     "execution_count": 60,
     "metadata": {},
     "output_type": "execute_result"
    }
   ],
   "source": [
    "np.loadtxt(\"KHIZAR.txt\")\n",
    "k"
   ]
  },
  {
   "cell_type": "markdown",
   "id": "76311236",
   "metadata": {},
   "source": [
    "### INSPECTING YOUR Array"
   ]
  },
  {
   "cell_type": "code",
   "execution_count": 61,
   "id": "d3495b7b",
   "metadata": {},
   "outputs": [
    {
     "data": {
      "text/plain": [
       "6"
      ]
     },
     "execution_count": 61,
     "metadata": {},
     "output_type": "execute_result"
    }
   ],
   "source": [
    "b.size"
   ]
  },
  {
   "cell_type": "code",
   "execution_count": 63,
   "id": "d8808443",
   "metadata": {},
   "outputs": [
    {
     "data": {
      "text/plain": [
       "(6,)"
      ]
     },
     "execution_count": 63,
     "metadata": {},
     "output_type": "execute_result"
    }
   ],
   "source": [
    "b.shape"
   ]
  },
  {
   "cell_type": "code",
   "execution_count": 64,
   "id": "f425aecc",
   "metadata": {},
   "outputs": [
    {
     "data": {
      "text/plain": [
       "4"
      ]
     },
     "execution_count": 64,
     "metadata": {},
     "output_type": "execute_result"
    }
   ],
   "source": [
    "len(a)"
   ]
  },
  {
   "cell_type": "code",
   "execution_count": 65,
   "id": "9b209f11",
   "metadata": {},
   "outputs": [
    {
     "data": {
      "text/plain": [
       "dtype('float64')"
      ]
     },
     "execution_count": 65,
     "metadata": {},
     "output_type": "execute_result"
    }
   ],
   "source": [
    "b.dtype"
   ]
  },
  {
   "cell_type": "code",
   "execution_count": 67,
   "id": "a9214728",
   "metadata": {},
   "outputs": [
    {
     "data": {
      "text/plain": [
       "'float64'"
      ]
     },
     "execution_count": 67,
     "metadata": {},
     "output_type": "execute_result"
    }
   ],
   "source": [
    "b.dtype.name"
   ]
  },
  {
   "cell_type": "code",
   "execution_count": 68,
   "id": "93209079",
   "metadata": {},
   "outputs": [
    {
     "data": {
      "text/plain": [
       "array([1, 1, 1, 1, 1, 1])"
      ]
     },
     "execution_count": 68,
     "metadata": {},
     "output_type": "execute_result"
    }
   ],
   "source": [
    "b.astype(int)"
   ]
  },
  {
   "cell_type": "code",
   "execution_count": 69,
   "id": "446ad07c",
   "metadata": {},
   "outputs": [
    {
     "data": {
      "text/plain": [
       "array([1.1, 1.2, 1.3, 1.4, 1.5, 1.6])"
      ]
     },
     "execution_count": 69,
     "metadata": {},
     "output_type": "execute_result"
    }
   ],
   "source": [
    "b.astype(float)"
   ]
  },
  {
   "cell_type": "markdown",
   "id": "434c297e",
   "metadata": {},
   "source": [
    "### Array Mathematics \n",
    "### Arithmetic Operations "
   ]
  },
  {
   "cell_type": "code",
   "execution_count": 94,
   "id": "f1de03c8",
   "metadata": {},
   "outputs": [
    {
     "data": {
      "text/plain": [
       "array([-2.45, -9.  , -2.  ])"
      ]
     },
     "execution_count": 94,
     "metadata": {},
     "output_type": "execute_result"
    }
   ],
   "source": [
    "a= np.array([0.55,0,0])\n",
    "b= np.array([3,9,2])\n",
    "g = a-b \n",
    "np.subtract(a,b)"
   ]
  },
  {
   "cell_type": "code",
   "execution_count": 85,
   "id": "798e26bd",
   "metadata": {},
   "outputs": [
    {
     "data": {
      "text/plain": [
       "1.3"
      ]
     },
     "execution_count": 85,
     "metadata": {},
     "output_type": "execute_result"
    }
   ],
   "source": [
    "b[2]"
   ]
  },
  {
   "cell_type": "code",
   "execution_count": 88,
   "id": "6f73e251",
   "metadata": {},
   "outputs": [
    {
     "data": {
      "text/plain": [
       "1.2"
      ]
     },
     "execution_count": 88,
     "metadata": {},
     "output_type": "execute_result"
    }
   ],
   "source": [
    "b[1]"
   ]
  },
  {
   "cell_type": "code",
   "execution_count": 98,
   "id": "12b83634",
   "metadata": {},
   "outputs": [
    {
     "data": {
      "text/plain": [
       "array([1.65, 0.  , 0.  ])"
      ]
     },
     "execution_count": 98,
     "metadata": {},
     "output_type": "execute_result"
    }
   ],
   "source": [
    "a= np.array([0.55,0,0])\n",
    "b= np.array([3,9,2])\n",
    "g =a*b\n",
    "np.multiply(a,b)"
   ]
  },
  {
   "cell_type": "code",
   "execution_count": 99,
   "id": "607b1541",
   "metadata": {},
   "outputs": [
    {
     "data": {
      "text/plain": [
       "array([1.73205081, 3.        , 1.41421356])"
      ]
     },
     "execution_count": 99,
     "metadata": {},
     "output_type": "execute_result"
    }
   ],
   "source": [
    "np.sqrt(b)"
   ]
  },
  {
   "cell_type": "code",
   "execution_count": 100,
   "id": "285fd563",
   "metadata": {},
   "outputs": [
    {
     "data": {
      "text/plain": [
       "array([0.52268723, 0.        , 0.        ])"
      ]
     },
     "execution_count": 100,
     "metadata": {},
     "output_type": "execute_result"
    }
   ],
   "source": [
    "np.sin(a)"
   ]
  },
  {
   "cell_type": "code",
   "execution_count": 101,
   "id": "43766d8b",
   "metadata": {},
   "outputs": [
    {
     "data": {
      "text/plain": [
       "array([-0.9899925 , -0.91113026, -0.41614684])"
      ]
     },
     "execution_count": 101,
     "metadata": {},
     "output_type": "execute_result"
    }
   ],
   "source": [
    "np.cos(b)"
   ]
  },
  {
   "cell_type": "code",
   "execution_count": 102,
   "id": "555bf5ff",
   "metadata": {},
   "outputs": [
    {
     "data": {
      "text/plain": [
       "array([2.30258509, 2.99573227, 3.40119738, 3.68887945, 3.91202301,\n",
       "       4.09434456, 4.24849524, 4.38202663, 4.49980967, 4.60517019])"
      ]
     },
     "execution_count": 102,
     "metadata": {},
     "output_type": "execute_result"
    }
   ],
   "source": [
    "np.log(c)"
   ]
  },
  {
   "cell_type": "code",
   "execution_count": 103,
   "id": "e2a367cf",
   "metadata": {},
   "outputs": [
    {
     "data": {
      "text/plain": [
       "array([2.00855369e+01, 8.10308393e+03, 7.38905610e+00])"
      ]
     },
     "execution_count": 103,
     "metadata": {},
     "output_type": "execute_result"
    }
   ],
   "source": [
    "np.exp(b)"
   ]
  },
  {
   "cell_type": "markdown",
   "id": "2b4f12c8",
   "metadata": {},
   "source": [
    "## AGGREGATE"
   ]
  },
  {
   "cell_type": "code",
   "execution_count": 104,
   "id": "b0ff99de",
   "metadata": {},
   "outputs": [
    {
     "data": {
      "text/plain": [
       "0.55"
      ]
     },
     "execution_count": 104,
     "metadata": {},
     "output_type": "execute_result"
    }
   ],
   "source": [
    "a.sum()"
   ]
  },
  {
   "cell_type": "code",
   "execution_count": 106,
   "id": "a6a35ec2",
   "metadata": {},
   "outputs": [
    {
     "data": {
      "text/plain": [
       "10"
      ]
     },
     "execution_count": 106,
     "metadata": {},
     "output_type": "execute_result"
    }
   ],
   "source": [
    "c.min()"
   ]
  },
  {
   "cell_type": "code",
   "execution_count": 108,
   "id": "05969178",
   "metadata": {},
   "outputs": [
    {
     "data": {
      "text/plain": [
       "100"
      ]
     },
     "execution_count": 108,
     "metadata": {},
     "output_type": "execute_result"
    }
   ],
   "source": [
    "c.max(axis=0)"
   ]
  },
  {
   "cell_type": "code",
   "execution_count": 112,
   "id": "3164271a",
   "metadata": {},
   "outputs": [
    {
     "data": {
      "text/plain": [
       "array([ 3, 12, 14], dtype=int32)"
      ]
     },
     "execution_count": 112,
     "metadata": {},
     "output_type": "execute_result"
    }
   ],
   "source": [
    "b.cumsum(axis=0)"
   ]
  },
  {
   "cell_type": "code",
   "execution_count": 113,
   "id": "4b68e17d",
   "metadata": {},
   "outputs": [
    {
     "data": {
      "text/plain": [
       "55.0"
      ]
     },
     "execution_count": 113,
     "metadata": {},
     "output_type": "execute_result"
    }
   ],
   "source": [
    "c.mean()"
   ]
  },
  {
   "cell_type": "code",
   "execution_count": 114,
   "id": "aa483065",
   "metadata": {},
   "outputs": [
    {
     "data": {
      "text/plain": [
       "2.0"
      ]
     },
     "execution_count": 114,
     "metadata": {},
     "output_type": "execute_result"
    }
   ],
   "source": [
    "k.mean()"
   ]
  },
  {
   "cell_type": "code",
   "execution_count": 115,
   "id": "291ebc70",
   "metadata": {},
   "outputs": [
    {
     "data": {
      "text/plain": [
       "3.0"
      ]
     },
     "execution_count": 115,
     "metadata": {},
     "output_type": "execute_result"
    }
   ],
   "source": [
    "np.median(b)"
   ]
  },
  {
   "cell_type": "code",
   "execution_count": 116,
   "id": "4a1b442e",
   "metadata": {},
   "outputs": [
    {
     "name": "stderr",
     "output_type": "stream",
     "text": [
      "C:\\ProgramData\\Anaconda3\\lib\\site-packages\\numpy\\lib\\function_base.py:2634: RuntimeWarning: Degrees of freedom <= 0 for slice\n",
      "  c = cov(x, y, rowvar, dtype=dtype)\n",
      "C:\\ProgramData\\Anaconda3\\lib\\site-packages\\numpy\\lib\\function_base.py:2493: RuntimeWarning: divide by zero encountered in true_divide\n",
      "  c *= np.true_divide(1, fact)\n",
      "C:\\ProgramData\\Anaconda3\\lib\\site-packages\\numpy\\lib\\function_base.py:2493: RuntimeWarning: invalid value encountered in multiply\n",
      "  c *= np.true_divide(1, fact)\n"
     ]
    },
    {
     "data": {
      "text/plain": [
       "nan"
      ]
     },
     "execution_count": 116,
     "metadata": {},
     "output_type": "execute_result"
    }
   ],
   "source": [
    "np.corrcoef(k)"
   ]
  },
  {
   "cell_type": "code",
   "execution_count": 117,
   "id": "2dcee00d",
   "metadata": {},
   "outputs": [
    {
     "data": {
      "text/plain": [
       "0.0"
      ]
     },
     "execution_count": 117,
     "metadata": {},
     "output_type": "execute_result"
    }
   ],
   "source": [
    "np.std(k)"
   ]
  },
  {
   "cell_type": "markdown",
   "id": "5c29de6f",
   "metadata": {},
   "source": [
    "### Sorting Arrays"
   ]
  },
  {
   "cell_type": "code",
   "execution_count": 120,
   "id": "3a16ca53",
   "metadata": {},
   "outputs": [],
   "source": [
    "c.sort()"
   ]
  },
  {
   "cell_type": "code",
   "execution_count": 121,
   "id": "7d602526",
   "metadata": {},
   "outputs": [],
   "source": [
    "c.sort(axis=0)"
   ]
  },
  {
   "cell_type": "markdown",
   "id": "44581ce7",
   "metadata": {},
   "source": [
    "### Subsetting ,Slicing ,Indexing"
   ]
  },
  {
   "cell_type": "code",
   "execution_count": 122,
   "id": "2206047f",
   "metadata": {},
   "outputs": [
    {
     "data": {
      "text/plain": [
       "0.55"
      ]
     },
     "execution_count": 122,
     "metadata": {},
     "output_type": "execute_result"
    }
   ],
   "source": [
    "a[2]"
   ]
  },
  {
   "cell_type": "code",
   "execution_count": 124,
   "id": "fe47c966",
   "metadata": {},
   "outputs": [
    {
     "data": {
      "text/plain": [
       "9"
      ]
     },
     "execution_count": 124,
     "metadata": {},
     "output_type": "execute_result"
    }
   ],
   "source": [
    "b[1]"
   ]
  },
  {
   "cell_type": "code",
   "execution_count": 126,
   "id": "98575388",
   "metadata": {},
   "outputs": [
    {
     "data": {
      "text/plain": [
       "array([1, 2])"
      ]
     },
     "execution_count": 126,
     "metadata": {},
     "output_type": "execute_result"
    }
   ],
   "source": [
    "a[0:2]\n",
    "np.array([1,2])"
   ]
  },
  {
   "cell_type": "code",
   "execution_count": null,
   "id": "e2d6f05c",
   "metadata": {},
   "outputs": [],
   "source": []
  },
  {
   "cell_type": "code",
   "execution_count": null,
   "id": "765f9308",
   "metadata": {},
   "outputs": [],
   "source": []
  }
 ],
 "metadata": {
  "kernelspec": {
   "display_name": "Python 3 (ipykernel)",
   "language": "python",
   "name": "python3"
  },
  "language_info": {
   "codemirror_mode": {
    "name": "ipython",
    "version": 3
   },
   "file_extension": ".py",
   "mimetype": "text/x-python",
   "name": "python",
   "nbconvert_exporter": "python",
   "pygments_lexer": "ipython3",
   "version": "3.9.7"
  }
 },
 "nbformat": 4,
 "nbformat_minor": 5
}
