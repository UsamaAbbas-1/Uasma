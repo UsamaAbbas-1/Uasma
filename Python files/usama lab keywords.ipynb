{
 "cells": [
  {
   "cell_type": "code",
   "execution_count": null,
   "id": "866dd8d7",
   "metadata": {},
   "outputs": [],
   "source": [
    "False == (1 > 2), True == (2 > 1)"
   ]
  },
  {
   "cell_type": "code",
   "execution_count": null,
   "id": "0a19bbeb",
   "metadata": {},
   "outputs": [],
   "source": [
    "x, y = True, False\n",
    "(x or y) == True\n",
    "(x and y) ==False\n",
    "(not y)== True"
   ]
  },
  {
   "cell_type": "code",
   "execution_count": null,
   "id": "d01bcd73",
   "metadata": {},
   "outputs": [],
   "source": [
    "while(True):\n",
    "    break\n",
    "print(\"hello usama\")"
   ]
  },
  {
   "cell_type": "code",
   "execution_count": null,
   "id": "31d14fd5",
   "metadata": {},
   "outputs": [],
   "source": [
    "while(True):\n",
    "    continue\n",
    "    print(\"43\")"
   ]
  },
  {
   "cell_type": "code",
   "execution_count": null,
   "id": "824ff257",
   "metadata": {},
   "outputs": [],
   "source": [
    "x = int(input(\"your value:\"))\n",
    "if x > 3: print(\"big\")\n",
    "elif x == 3: print(\"medium\")\n",
    "else: print(\"small\")"
   ]
  },
  {
   "cell_type": "code",
   "execution_count": null,
   "id": "f207ae56",
   "metadata": {},
   "outputs": [],
   "source": [
    "j = 0\n",
    "while j < 3:\n",
    "    print(j)\n",
    "    j = j + 1"
   ]
  },
  {
   "cell_type": "code",
   "execution_count": null,
   "id": "834a24a5",
   "metadata": {},
   "outputs": [],
   "source": [
    "for i in [0,1,2]:\n",
    "    print(i)"
   ]
  },
  {
   "cell_type": "code",
   "execution_count": null,
   "id": "2c43fdd1",
   "metadata": {},
   "outputs": [],
   "source": [
    "42 in [2, 39, 42]"
   ]
  },
  {
   "cell_type": "code",
   "execution_count": null,
   "id": "3ac6e4f6",
   "metadata": {},
   "outputs": [],
   "source": [
    "y = x = 3\n",
    "x is y \n",
    "[3] is [3]"
   ]
  },
  {
   "cell_type": "code",
   "execution_count": null,
   "id": "f8cb4b94",
   "metadata": {},
   "outputs": [],
   "source": [
    "def f(d):\n",
    "    x = 2\n",
    "    print(d)\n",
    "f(1) is None "
   ]
  },
  {
   "cell_type": "code",
   "execution_count": null,
   "id": "0e2d63d8",
   "metadata": {},
   "outputs": [],
   "source": [
    "(lambda x: x + 3)(3)"
   ]
  },
  {
   "cell_type": "code",
   "execution_count": null,
   "id": "ffc87e79",
   "metadata": {},
   "outputs": [],
   "source": [
    "def incrementor(x):\n",
    "  return x + 1\n",
    "incrementor(4)"
   ]
  },
  {
   "cell_type": "code",
   "execution_count": null,
   "id": "c022e57d",
   "metadata": {},
   "outputs": [],
   "source": [
    "x, y = True, False\n",
    "print(x and not y)\n",
    "print(not x and y or x )\n",
    "if None or 0 or 0.0 or \"\" or [] or {} or set ():\n",
    "    print(\"Dead code\")"
   ]
  },
  {
   "cell_type": "code",
   "execution_count": null,
   "id": "36d7b689",
   "metadata": {},
   "outputs": [],
   "source": [
    "x, y = 3, 2\n",
    "print(x + y)\n",
    "print(x - y)\n",
    "print(x * y)\n",
    "print(x / y)\n",
    "print(x // y)\n",
    "print(x % y)\n",
    "print(-x)\n",
    "print(int(3.9))\n",
    "print(float(3))\n",
    "print(x ** y)"
   ]
  },
  {
   "cell_type": "markdown",
   "id": "a1c0a8d5",
   "metadata": {},
   "source": [
    "# # classes"
   ]
  },
  {
   "cell_type": "code",
   "execution_count": 2,
   "id": "4f348a65",
   "metadata": {},
   "outputs": [
    {
     "ename": "IndentationError",
     "evalue": "unindent does not match any outer indentation level (<tokenize>, line 3)",
     "output_type": "error",
     "traceback": [
      "\u001b[1;36m  File \u001b[1;32m\"<tokenize>\"\u001b[1;36m, line \u001b[1;32m3\u001b[0m\n\u001b[1;33m    species = [\"canis lupus\"]\u001b[0m\n\u001b[1;37m    ^\u001b[0m\n\u001b[1;31mIndentationError\u001b[0m\u001b[1;31m:\u001b[0m unindent does not match any outer indentation level\n"
     ]
    }
   ],
   "source": [
    "class Dog:\n",
    "       \"\"\" Blueprint of a Dog\"\"\"\n",
    "    species = [\"canis lupus\"]\n",
    "    \n",
    "    def _init_(self, name, color):\n",
    "            self.name = name\n",
    "            self.state = \"sleeping\"\n",
    "            self.color = color\n",
    "        \n",
    "    def command(self, x):\n",
    "        if x == self.name:\n",
    "                self.bark(2)\n",
    "        elif x == \"sit\":\n",
    "         self.state = \"sit\"\n",
    "        else:\n",
    "                 self.state = \"wag tail\"\n",
    "    def bark(self, freq):\n",
    "            for i in range(freq):\n",
    "                   print(\"[\" + self.name + \"]: Woof!\")\n",
    "bello = Dog(\"bello\" , \"black\")\n",
    "alice = Dog(\"alice\" , \"white\")\n",
    "\n",
    "print(bello.color)\n",
    "print(alice.color)\n",
    "\n",
    "bello.bark(1)\n",
    "\n",
    "alice.command(\"sit\")\n",
    "print(\"[alice]:\" + alice.state)\n",
    "\n",
    "bello.command(\"no\")\n",
    "print(\"[bello]: \" + bello.state)\n",
    "\n",
    "alice.command(\"alice\")\n",
    "\n",
    "bello.species += [\"wulf\"]\n",
    "print(len(bello.species)\n",
    "== len(alice.species))\n"
   ]
  },
  {
   "cell_type": "code",
   "execution_count": null,
   "id": "715192b6",
   "metadata": {},
   "outputs": [],
   "source": []
  },
  {
   "cell_type": "code",
   "execution_count": null,
   "id": "6c4f62ab",
   "metadata": {},
   "outputs": [],
   "source": [
    "list(map(lambda x: x[0], [\"red\",\"green\", \"blue\"]))"
   ]
  },
  {
   "cell_type": "code",
   "execution_count": null,
   "id": "6f169e9a",
   "metadata": {},
   "outputs": [],
   "source": [
    "def get_missing_number(lst):\n",
    "    return set(range(lst[len(lst)-1])[1:]) - set(l)\n",
    "l = list(range(1,100))\n",
    "l.remove(50)\n",
    "print(get_missing_number(l))"
   ]
  },
  {
   "cell_type": "code",
   "execution_count": null,
   "id": "0963e982",
   "metadata": {},
   "outputs": [],
   "source": [
    "def intersect(lst1, lst2):\n",
    "    res, lst2_copy = [], lst2[:]\n",
    "    for el in lst1:\n",
    "        if el in lst2_copy:\n",
    "            res.append(el)\n",
    "            lst2_copy.remove(el)\n",
    "    return res"
   ]
  },
  {
   "cell_type": "code",
   "execution_count": null,
   "id": "52b37b36",
   "metadata": {},
   "outputs": [],
   "source": [
    "l = [4, 3, 6, 3, 4, 888, 1, -11, 22, 3]\n",
    "print(max(l)) \n",
    "print(min(l)) "
   ]
  },
  {
   "cell_type": "code",
   "execution_count": null,
   "id": "5bb23dc5",
   "metadata": {},
   "outputs": [],
   "source": [
    "def reverse(string):\n",
    "    if len(string)<=1: return string\n",
    "    return reverse(string[1:])+string[0]\n",
    "print(reverse(\"hello\")) "
   ]
  },
  {
   "cell_type": "code",
   "execution_count": null,
   "id": "a083b09e",
   "metadata": {},
   "outputs": [],
   "source": [
    "a, b = 0, 1\n",
    "n = 10\n",
    "for i in range(n):\n",
    "    print(b)\n",
    "    a, b = b, a+b"
   ]
  },
  {
   "cell_type": "code",
   "execution_count": null,
   "id": "085ee4fe",
   "metadata": {},
   "outputs": [],
   "source": [
    "def qsort(L):\n",
    "    if L == []: return []\n",
    "    return qsort([x for x in L[1:] if x< L[0]]) + L[0:1] +qsort([x for x in L[1:] if x>=L[0]])\n",
    "lst = [44, 33, 22, 5, 77, 55, 999]\n",
    "print(qsort(lst))\n"
   ]
  },
  {
   "cell_type": "code",
   "execution_count": null,
   "id": "5c1b3cfc",
   "metadata": {},
   "outputs": [],
   "source": [
    "def get_permutations(w):\n",
    "    if len(w)<=1:\n",
    "        return set(w)\n",
    "    smaller = get_permutations(w[1:])\n",
    "    perms = set()\n",
    "    for x in smaller:\n",
    "        for pos in range(0,len(x)+1):\n",
    "            perm = x[:pos] + w[0] + x[pos:]\n",
    "            perms.add(perm)\n",
    "    return perms\n",
    "print(get_permutations(\"nan\"))"
   ]
  },
  {
   "cell_type": "code",
   "execution_count": 7,
   "id": "0d6a6662",
   "metadata": {},
   "outputs": [
    {
     "name": "stdout",
     "output_type": "stream",
     "text": [
      "(3, 2)\n"
     ]
    }
   ],
   "source": [
    "import numpy as np\n",
    "a = np.array([[1,2],[1,1],[0,0]])\n",
    "print(np.shape(a)) "
   ]
  },
  {
   "cell_type": "code",
   "execution_count": 8,
   "id": "d58e392c",
   "metadata": {},
   "outputs": [
    {
     "name": "stdout",
     "output_type": "stream",
     "text": [
      "[[2 0]\n",
      " [0 2]]\n"
     ]
    }
   ],
   "source": [
    "a = np.array([[2, 0], [0, 2]])\n",
    "b = np.array([[1, 1], [1, 1]])\n",
    "print(a*b) "
   ]
  },
  {
   "cell_type": "code",
   "execution_count": 9,
   "id": "b33bdad4",
   "metadata": {},
   "outputs": [
    {
     "name": "stdout",
     "output_type": "stream",
     "text": [
      "[[2 2]\n",
      " [2 2]]\n"
     ]
    }
   ],
   "source": [
    "print(np.matmul(a,b))"
   ]
  },
  {
   "cell_type": "code",
   "execution_count": 6,
   "id": "97840d61",
   "metadata": {},
   "outputs": [
    {
     "data": {
      "text/plain": [
       "True"
      ]
     },
     "execution_count": 6,
     "metadata": {},
     "output_type": "execute_result"
    }
   ],
   "source": [
    "[3]==[3]"
   ]
  },
  {
   "cell_type": "code",
   "execution_count": null,
   "id": "3d38039f",
   "metadata": {},
   "outputs": [],
   "source": []
  }
 ],
 "metadata": {
  "kernelspec": {
   "display_name": "Python 3 (ipykernel)",
   "language": "python",
   "name": "python3"
  },
  "language_info": {
   "codemirror_mode": {
    "name": "ipython",
    "version": 3
   },
   "file_extension": ".py",
   "mimetype": "text/x-python",
   "name": "python",
   "nbconvert_exporter": "python",
   "pygments_lexer": "ipython3",
   "version": "3.9.7"
  }
 },
 "nbformat": 4,
 "nbformat_minor": 5
}
